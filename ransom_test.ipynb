{
 "cells": [
  {
   "cell_type": "code",
   "execution_count": 1,
   "metadata": {},
   "outputs": [
    {
     "name": "stderr",
     "output_type": "stream",
     "text": [
      "C:\\Users\\tanas\\AppData\\Roaming\\Python\\Python39\\site-packages\\tqdm\\auto.py:22: TqdmWarning: IProgress not found. Please update jupyter and ipywidgets. See https://ipywidgets.readthedocs.io/en/stable/user_install.html\n",
      "  from .autonotebook import tqdm as notebook_tqdm\n"
     ]
    }
   ],
   "source": [
    "import torch\n",
    "from torch_geometric.data import Data\n",
    "from torch_geometric.loader import DataLoader\n",
    "from dataset import exeGraph\n",
    "\n",
    "from dataset import OPS_LENGTH"
   ]
  },
  {
   "cell_type": "code",
   "execution_count": 2,
   "metadata": {},
   "outputs": [
    {
     "name": "stdout",
     "output_type": "stream",
     "text": [
      "Amount of items: 245\n",
      "Amount of ransomware: 202\n",
      "Amount of benign: 43\n",
      "Data(x=[5, 5], edge_index=[2, 4], y=[1])\n"
     ]
    }
   ],
   "source": [
    "dataset = exeGraph()\n",
    "\n",
    "print(f\"Amount of items: {len(dataset)}\")\n",
    "\n",
    "bn = 0\n",
    "rs = 0\n",
    "\n",
    "for d in dataset:\n",
    "    if d.y.item() == 1:\n",
    "        rs += 1\n",
    "    elif d.y.item() == 0:\n",
    "        bn += 1\n",
    "\n",
    "print(f\"Amount of ransomware: {rs}\")\n",
    "print(f\"Amount of benign: {bn}\")\n",
    "\n",
    "print(dataset[0])\n",
    "\n",
    "data_len = len(dataset)\n",
    "train_amo = round(data_len * 0.8)\n",
    "\n",
    "train_loader = DataLoader(dataset[:train_amo], batch_size=64, shuffle=True)\n",
    "test_loader = DataLoader(dataset[train_amo:], batch_size=64, shuffle=False)"
   ]
  },
  {
   "cell_type": "code",
   "execution_count": 11,
   "metadata": {},
   "outputs": [],
   "source": [
    "from torch.nn import Linear\n",
    "import torch.nn.functional as F\n",
    "from torch_geometric.nn import GCNConv\n",
    "from torch_geometric.nn import global_mean_pool\n",
    "\n",
    "class GCN(torch.nn.Module):\n",
    "    def __init__(self, hidden_channels):\n",
    "        super(GCN, self).__init__()\n",
    "        self.conv1 = GCNConv(OPS_LENGTH, hidden_channels)\n",
    "        self.conv2 = GCNConv(hidden_channels, hidden_channels)\n",
    "        self.lin = Linear(hidden_channels, 2)\n",
    "\n",
    "    def forward(self, x, edge_index, batch):\n",
    "        x = self.conv1(x, edge_index)\n",
    "        x = x.relu()\n",
    "        x = self.conv2(x, edge_index)\n",
    "        \n",
    "        x = global_mean_pool(x, batch)\n",
    "        \n",
    "        x = F.dropout(x, p=0.5, training=self.training)\n",
    "        x = self.lin(x)\n",
    "        \n",
    "        return x"
   ]
  },
  {
   "cell_type": "code",
   "execution_count": 16,
   "metadata": {},
   "outputs": [
    {
     "name": "stderr",
     "output_type": "stream",
     "text": [
      "100%|██████████| 32/32 [01:11<00:00,  2.22s/it]\n"
     ]
    },
    {
     "data": {
      "image/png": "[encoded data removed]",
      "text/plain": [
       "<Figure size 432x288 with 1 Axes>"
      ]
     },
     "metadata": {
      "needs_background": "light"
     },
     "output_type": "display_data"
    },
    {
     "name": "stdout",
     "output_type": "stream",
     "text": [
      "Max accuracy: 1.0000\n",
      "Epoch: 031, Test Acc: 0.9796\n"
     ]
    }
   ],
   "source": [
    "from IPython.display import Javascript\n",
    "from tqdm import tqdm\n",
    "import matplotlib.pyplot as plt\n",
    "\n",
    "EPOCH = 32\n",
    "\n",
    "model = GCN(hidden_channels=64)\n",
    "optimizer = torch.optim.Adam(model.parameters(), lr=0.01)\n",
    "criterion = torch.nn.CrossEntropyLoss()\n",
    "\n",
    "def train():\n",
    "    model.train()\n",
    "\n",
    "    for data in train_loader:  \n",
    "        out = model(data.x, data.edge_index, data.batch)  \n",
    "        loss = criterion(out, data.y)\n",
    "        loss.backward()  \n",
    "        optimizer.step()  \n",
    "        optimizer.zero_grad()  \n",
    "\n",
    "def test(loader):\n",
    "    model.eval()\n",
    "\n",
    "    correct = 0\n",
    "    for data in loader:  \n",
    "        out = model(data.x, data.edge_index, data.batch)  \n",
    "        pred = out.argmax(dim=1)  \n",
    "        correct += int((pred == data.y).sum())  \n",
    "    return correct / len(loader.dataset)  \n",
    "\n",
    "acc = []\n",
    "for e in tqdm(range(EPOCH)):\n",
    "    train()\n",
    "    train_acc = test(train_loader)\n",
    "    acc.append(train_acc)\n",
    "\n",
    "plt.plot(acc)\n",
    "plt.show()\n",
    "\n",
    "print(f\"Max accuracy: {max(acc):.4f}\")\n",
    "test_acc = test(test_loader)\n",
    "print(f'Epoch: {e:03d}, Test Acc: {test_acc:.4f}')"
   ]
  },
  {
   "cell_type": "code",
   "execution_count": null,
   "metadata": {},
   "outputs": [],
   "source": []
  }
 ],
 "metadata": {
  "kernelspec": {
   "display_name": "Python 3.9.6 64-bit",
   "language": "python",
   "name": "python3"
  },
  "language_info": {
   "codemirror_mode": {
    "name": "ipython",
    "version": 3
   },
   "file_extension": ".py",
   "mimetype": "text/x-python",
   "name": "python",
   "nbconvert_exporter": "python",
   "pygments_lexer": "ipython3",
   "version": "3.9.6"
  },
  "orig_nbformat": 4,
  "vscode": {
   "interpreter": {
    "hash": "81794d4967e6c3204c66dcd87b604927b115b27c00565d3d43f05ba2f3a2cb0d"
   }
  }
 },
 "nbformat": 4,
 "nbformat_minor": 2
}
