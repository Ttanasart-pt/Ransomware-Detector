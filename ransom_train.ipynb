{
 "cells": [
  {
   "cell_type": "markdown",
   "metadata": {},
   "source": [
    "Yea we train in Jupyter now, deal with it."
   ]
  },
  {
   "cell_type": "code",
   "execution_count": 6,
   "metadata": {},
   "outputs": [
    {
     "name": "stderr",
     "output_type": "stream",
     "text": [
      "usage: ipykernel_launcher.py [-h] [-i I] [-o O] [--dump]\n",
      "ipykernel_launcher.py: error: unrecognized arguments: --ip=127.0.0.1 --stdin=9003 --control=9001 --hb=9000 --Session.signature_scheme=\"hmac-sha256\" --Session.key=b\"46c62610-c6f9-4681-8fd0-011b410f1270\" --shell=9002 --transport=\"tcp\" --iopub=9004 --f=c:\\Users\\tanas\\AppData\\Roaming\\jupyter\\runtime\\kernel-v2-21084ikl9xzhwXrsj.json\n"
     ]
    },
    {
     "ename": "SystemExit",
     "evalue": "2",
     "output_type": "error",
     "traceback": [
      "An exception has occurred, use %tb to see the full traceback.\n",
      "\u001b[1;31mSystemExit\u001b[0m\u001b[1;31m:\u001b[0m 2\n"
     ]
    }
   ],
   "source": [
    "import torch\n",
    "from torch_geometric.data import Data\n",
    "from torch_geometric.loader import DataLoader\n",
    "\n",
    "from assembly_extract import OPS_LENGTH"
   ]
  },
  {
   "cell_type": "code",
   "execution_count": null,
   "metadata": {},
   "outputs": [
    {
     "name": "stdout",
     "output_type": "stream",
     "text": [
      "Amount of items: 1585\n",
      "Amount of ransomware: 972\n",
      "Amount of benign: 613\n",
      "Data(x=[1686, 5], edge_index=[2, 1736], y=[1])\n"
     ]
    }
   ],
   "source": [
    "dataset = torch.load('data/dataset.pt')\n",
    "\n",
    "print(f\"Amount of items: {len(dataset)}\")\n",
    "\n",
    "bn = 0\n",
    "rs = 0\n",
    "\n",
    "for d in dataset:\n",
    "    if d.y.item() == 1:\n",
    "        rs += 1\n",
    "    elif d.y.item() == 0:\n",
    "        bn += 1\n",
    "\n",
    "print(f\"Amount of ransomware: {rs}\")\n",
    "print(f\"Amount of benign: {bn}\")\n",
    "\n",
    "print(dataset[0])\n",
    "\n",
    "data_len = len(dataset)\n",
    "train_amo = round(data_len * 0.8)\n",
    "\n",
    "train_loader = DataLoader(dataset[:train_amo], batch_size=64, shuffle=True)\n",
    "test_loader = DataLoader(dataset[train_amo:], batch_size=64, shuffle=False)"
   ]
  },
  {
   "cell_type": "code",
   "execution_count": null,
   "metadata": {},
   "outputs": [],
   "source": [
    "from torch.nn import Linear\n",
    "import torch.nn.functional as F\n",
    "from torch_geometric.nn import GCNConv\n",
    "from torch_geometric.nn import global_mean_pool\n",
    "\n",
    "class GCN(torch.nn.Module):\n",
    "    def __init__(self, hidden_channels):\n",
    "        super(GCN, self).__init__()\n",
    "        self.conv1 = GCNConv(OPS_LENGTH, hidden_channels)\n",
    "        self.conv2 = GCNConv(hidden_channels, hidden_channels)\n",
    "        self.lin = Linear(hidden_channels, 2)\n",
    "\n",
    "    def forward(self, x, edge_index, batch):\n",
    "        x = self.conv1(x, edge_index)\n",
    "        x = x.relu()\n",
    "        x = self.conv2(x, edge_index)\n",
    "        \n",
    "        x = global_mean_pool(x, batch)\n",
    "        \n",
    "        x = F.dropout(x, p=0.5, training=self.training)\n",
    "        x = self.lin(x)\n",
    "        \n",
    "        return x"
   ]
  },
  {
   "cell_type": "code",
   "execution_count": null,
   "metadata": {},
   "outputs": [],
   "source": [
    "from config import *"
   ]
  },
  {
   "cell_type": "code",
   "execution_count": null,
   "metadata": {},
   "outputs": [
    {
     "name": "stderr",
     "output_type": "stream",
     "text": [
      "100%|██████████| 32/32 [33:43<00:00, 63.25s/it]\n"
     ]
    },
    {
     "data": {
      "image/png": "[encoded data removed]",
      "text/plain": [
       "<Figure size 432x288 with 1 Axes>"
      ]
     },
     "metadata": {
      "needs_background": "light"
     },
     "output_type": "display_data"
    },
    {
     "name": "stdout",
     "output_type": "stream",
     "text": [
      "Max accuracy: 0.9716\n",
      "Epoch: 031, Test Acc: 0.9338\n"
     ]
    }
   ],
   "source": [
    "from IPython.display import Javascript\n",
    "from tqdm import tqdm\n",
    "import matplotlib.pyplot as plt\n",
    "\n",
    "model = GCN(hidden_channels = latent_dim)\n",
    "optimizer = torch.optim.Adam(model.parameters(), lr = lr)\n",
    "criterion = torch.nn.CrossEntropyLoss()\n",
    "\n",
    "def train():\n",
    "    model.train()\n",
    "\n",
    "    for data in train_loader:\n",
    "        out = model(data.x, data.edge_index, data.batch)\n",
    "        loss = criterion(out, data.y)\n",
    "        loss.backward()  \n",
    "        optimizer.step()  \n",
    "        optimizer.zero_grad()  \n",
    "\n",
    "def test(loader):\n",
    "    model.eval()\n",
    "\n",
    "    correct = 0\n",
    "    for data in loader:  \n",
    "        out = model(data.x, data.edge_index, data.batch)  \n",
    "        pred = out.argmax(dim = 1)  \n",
    "        correct += int((pred == data.y).sum())  \n",
    "    return correct / len(loader.dataset)  \n",
    "\n",
    "acc = []\n",
    "best = 0\n",
    "\n",
    "for e in tqdm(range(EPOCH)):\n",
    "    train()\n",
    "    train_acc = test(test_loader)\n",
    "    acc.append(train_acc)\n",
    "    \n",
    "    if train_acc > best:\n",
    "        best = train_acc\n",
    "        torch.save(model.state_dict(), WEIGHT_PATH)\n",
    "\n",
    "plt.plot(acc)\n",
    "plt.show()\n",
    "\n",
    "print(f\"Max accuracy: {max(acc):.4f}\")\n",
    "test_acc = test(test_loader)\n",
    "print(f'Epoch: {e:03d}, Test Acc: {test_acc:.4f}, Best Acc: {best:.4f}')"
   ]
  },
  {
   "cell_type": "markdown",
   "metadata": {},
   "source": [
    "## Load & Interence"
   ]
  },
  {
   "cell_type": "code",
   "execution_count": null,
   "metadata": {},
   "outputs": [],
   "source": [
    "new_model = GCN(hidden_channels = latent_dim)\n",
    "new_model.load_state_dict(torch.load(WEIGHT_PATH))\n",
    "new_model.eval()"
   ]
  },
  {
   "cell_type": "code",
   "execution_count": null,
   "metadata": {},
   "outputs": [],
   "source": [
    "from dismgrp import dismgrp\n",
    "\n",
    "PE_PATH = \"\"\n",
    "data = dismgrp(PE_PATH)\n",
    "res = new_model(data.x, data.edge_index, data.batch)  \n",
    "\n",
    "print(res)"
   ]
  }
 ],
 "metadata": {
  "kernelspec": {
   "display_name": "Python 3.9.6 64-bit",
   "language": "python",
   "name": "python3"
  },
  "language_info": {
   "codemirror_mode": {
    "name": "ipython",
    "version": 3
   },
   "file_extension": ".py",
   "mimetype": "text/x-python",
   "name": "python",
   "nbconvert_exporter": "python",
   "pygments_lexer": "ipython3",
   "version": "3.9.6"
  },
  "orig_nbformat": 4,
  "vscode": {
   "interpreter": {
    "hash": "81794d4967e6c3204c66dcd87b604927b115b27c00565d3d43f05ba2f3a2cb0d"
   }
  }
 },
 "nbformat": 4,
 "nbformat_minor": 2
}
